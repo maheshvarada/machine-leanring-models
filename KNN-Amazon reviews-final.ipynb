{
 "cells": [
  {
   "cell_type": "markdown",
   "metadata": {},
   "source": [
    "<ol><h2> 3. Applying KNN-Classifier on Amazon food reviews dataset </h2>"
   ]
  },
  {
   "cell_type": "markdown",
   "metadata": {},
   "source": [
    "Data Source: https://www.kaggle.com/snap/amazon-fine-food-reviews\n",
    "\n",
    "The Amazon Fine Food Reviews dataset consists of reviews of fine foods from Amazon.<br>\n",
    "\n",
    "Number of reviews: 568,454<br>\n",
    "Number of users: 256,059<br>\n",
    "Number of products: 74,258<br>\n",
    "Timespan: Oct 1999 - Oct 2012<br>\n",
    "Number of Attributes/Columns in data: 10 \n",
    "\n",
    "Attribute Information:\n",
    "\n",
    "1. Id\n",
    "2. ProductId - unique identifier for the product\n",
    "3. UserId - unqiue identifier for the user\n",
    "4. ProfileName\n",
    "5. HelpfulnessNumerator - number of users who found the review helpful\n",
    "6. HelpfulnessDenominator - number of users who indicated whether they found the review helpful or not\n",
    "7. Score - rating between 1 and 5\n",
    "8. Time - timestamp for the review\n",
    "9. Summary - brief summary of the review\n",
    "10. Text - text of the review"
   ]
  },
  {
   "cell_type": "code",
   "execution_count": 4,
   "metadata": {},
   "outputs": [],
   "source": [
    "from sklearn.neighbors import DistanceMetric\n",
    "import sqlite3\n",
    "import numpy as np\n",
    "import pandas as pd\n",
    "from sklearn.feature_extraction.text import CountVectorizer\n",
    "from sklearn.preprocessing import StandardScaler\n",
    "from sklearn.model_selection import TimeSeriesSplit\n",
    "from sklearn.model_selection import train_test_split\n",
    "from sklearn.neighbors import KNeighborsClassifier\n",
    "from sklearn.metrics import accuracy_score,f1_score,recall_score, precision_score,auc\n",
    "from sklearn.metrics import confusion_matrix,classification_report\n",
    "import seaborn as sns\n",
    "from sklearn.decomposition import TruncatedSVD\n",
    "from sklearn.feature_extraction.text import TfidfVectorizer\n",
    "from gensim.models import Word2Vec\n",
    "import matplotlib.pyplot as plt\n",
    "from prettytable import PrettyTable\n",
    "from sklearn import cross_validation\n",
    "import warnings\n",
    "import pickle\n",
    "import warnings\n",
    "warnings.filterwarnings(\"default\", category=DeprecationWarning)"
   ]
  },
  {
   "cell_type": "markdown",
   "metadata": {},
   "source": [
    "* Preprocessing of data has been done on the Dataset and stored it in the Final-new.sqlite.<br>\n",
    "* Preprocessing included the following operations:<br>\n",
    "  * <b>Added summery to the review text</b>\n",
    "  * Begin by removing the html tags<br>\n",
    "  * Remove any punctuations or limited set of special characters like , or . or # etc.<br>\n",
    "  * Check if the word is made up of english letters and is not alpha-numeric<br>\n",
    "  * Check to see if the length of the word is greater than 2 (as it was researched that there is no adjective in 2-letters)<br>\n",
    "  * Convert the word to lowercase<br>\n",
    "  * Remove stopwords<br>\n",
    "  * Finally Snowball Stemming the word (it was obsereved to be better than Porter Stemming)<br>"
   ]
  },
  {
   "cell_type": "code",
   "execution_count": 2,
   "metadata": {},
   "outputs": [
    {
     "data": {
      "text/plain": [
       "(80000, 11)"
      ]
     },
     "execution_count": 2,
     "metadata": {},
     "output_type": "execute_result"
    }
   ],
   "source": [
    "con=sqlite3.connect(\"final_new.sqlite\")\n",
    "reviews=pd.read_sql_query(\"select * from reviews\",con)\n",
    "final_data=reviews.sample(80000)\n",
    "final_data.drop('index',axis=1,inplace=True)\n",
    "final_data.shape\n"
   ]
  },
  {
   "cell_type": "markdown",
   "metadata": {},
   "source": [
    "<ol>Taking only 80k points because of computational power contraints."
   ]
  },
  {
   "cell_type": "code",
   "execution_count": 3,
   "metadata": {
    "scrolled": true
   },
   "outputs": [
    {
     "data": {
      "text/html": [
       "<div>\n",
       "<style scoped>\n",
       "    .dataframe tbody tr th:only-of-type {\n",
       "        vertical-align: middle;\n",
       "    }\n",
       "\n",
       "    .dataframe tbody tr th {\n",
       "        vertical-align: top;\n",
       "    }\n",
       "\n",
       "    .dataframe thead th {\n",
       "        text-align: right;\n",
       "    }\n",
       "</style>\n",
       "<table border=\"1\" class=\"dataframe\">\n",
       "  <thead>\n",
       "    <tr style=\"text-align: right;\">\n",
       "      <th></th>\n",
       "      <th>Id</th>\n",
       "      <th>ProductId</th>\n",
       "      <th>UserId</th>\n",
       "      <th>ProfileName</th>\n",
       "      <th>HelpfulnessNumerator</th>\n",
       "      <th>HelpfulnessDenominator</th>\n",
       "      <th>Score</th>\n",
       "      <th>Time</th>\n",
       "      <th>Summary</th>\n",
       "      <th>Text</th>\n",
       "      <th>CleanedText</th>\n",
       "    </tr>\n",
       "  </thead>\n",
       "  <tbody>\n",
       "    <tr>\n",
       "      <th>104122</th>\n",
       "      <td>245557</td>\n",
       "      <td>B000MO8G28</td>\n",
       "      <td>A1GBCTGYTFBIOM</td>\n",
       "      <td>wonderwoman</td>\n",
       "      <td>0</td>\n",
       "      <td>0</td>\n",
       "      <td>Positive</td>\n",
       "      <td>1337731200</td>\n",
       "      <td>Birds Custard Powder</td>\n",
       "      <td>I purchased this product along with ultra-fine...</td>\n",
       "      <td>purchas product along sugar amazon make cake c...</td>\n",
       "    </tr>\n",
       "  </tbody>\n",
       "</table>\n",
       "</div>"
      ],
      "text/plain": [
       "            Id   ProductId          UserId  ProfileName  HelpfulnessNumerator  \\\n",
       "104122  245557  B000MO8G28  A1GBCTGYTFBIOM  wonderwoman                     0   \n",
       "\n",
       "        HelpfulnessDenominator     Score        Time               Summary  \\\n",
       "104122                       0  Positive  1337731200  Birds Custard Powder   \n",
       "\n",
       "                                                     Text  \\\n",
       "104122  I purchased this product along with ultra-fine...   \n",
       "\n",
       "                                              CleanedText  \n",
       "104122  purchas product along sugar amazon make cake c...  "
      ]
     },
     "execution_count": 3,
     "metadata": {},
     "output_type": "execute_result"
    }
   ],
   "source": [
    "final_data.head(1)"
   ]
  },
  {
   "cell_type": "code",
   "execution_count": 4,
   "metadata": {},
   "outputs": [],
   "source": [
    "final_data.sort_values('Time',inplace=True)"
   ]
  },
  {
   "cell_type": "code",
   "execution_count": 5,
   "metadata": {},
   "outputs": [],
   "source": [
    "#train and test split\n",
    "X_1,X_test,Y_1,Y_test=train_test_split(final_data[\"CleanedText\"].values,final_data[\"Score\"].values,test_size=0.3,shuffle=False)"
   ]
  },
  {
   "cell_type": "code",
   "execution_count": 6,
   "metadata": {},
   "outputs": [],
   "source": [
    "#Crossvalidation split to tune the k-value in KNN\n",
    "X_train, X_cv, Y_train, Y_cv = cross_validation.train_test_split(X_1, Y_1, test_size=0.2)"
   ]
  },
  {
   "cell_type": "code",
   "execution_count": 7,
   "metadata": {},
   "outputs": [
    {
     "name": "stdout",
     "output_type": "stream",
     "text": [
      "stash purs shop alway one handi unlik big bulki reusabl bag never forget love long handl swing shoulder hike condo third floor veri light weight sturdi great bag\n",
      "Positive\n"
     ]
    }
   ],
   "source": [
    "print(X_train[1])\n",
    "print(Y_train[1])"
   ]
  },
  {
   "cell_type": "code",
   "execution_count": 7,
   "metadata": {},
   "outputs": [],
   "source": [
    "def plot_error(f1_scores_brute,f1_scores_kd,neighbors):\n",
    "    x1=neighbors\n",
    "    y1=f1_scores_brute\n",
    "    x2=neighbors\n",
    "    y2=f1_scores_kd\n",
    "\n",
    "    x1=np.array(x1)\n",
    "    x2=np.array(x2)\n",
    "    y1=np.array(y1)\n",
    "    y2=np.array(y2)\n",
    "    plot1,=plt.plot(x1,y1,Label=\"Brute\")\n",
    "    plot2,=plt.plot(x2,y2,Label=\"KDtree\")\n",
    "    plt.legend([plot1,plot2],[\"Brute\",\"KDtree\"])\n",
    "    plt.ylabel(\" CV Error %\")\n",
    "    plt.xlabel(\"K values\")\n",
    "    plt.title(\"Misclassification error vs K\")\n",
    "    plt.show()"
   ]
  },
  {
   "cell_type": "code",
   "execution_count": 8,
   "metadata": {},
   "outputs": [],
   "source": [
    "def findBestK(X_tr,Y_tr,X_cv,Y_cv,algo):\n",
    "    neighbors=[i for i in range(5,19,2)]\n",
    "    f1_scores=[]\n",
    "    for k in neighbors:\n",
    "        clf=KNeighborsClassifier(n_neighbors=k,algorithm=algo,n_jobs=-1)\n",
    "        clf.fit(X_tr,Y_tr)\n",
    "        pred=clf.predict(X_cv)\n",
    "        f1 = f1_score(Y_cv, pred,pos_label='Negative')\n",
    "        f1_scores.append(f1)\n",
    "    max_score=max(f1_scores)\n",
    "    index_k=list(f1_scores).index(max_score)\n",
    "    best_k=neighbors[index_k]\n",
    "    print(\"The Optimum number of K neighbours in this model is {0} with F1_score of {1} for Negative label\".format(best_k,round(max_score,3)))\n",
    "    return best_k"
   ]
  },
  {
   "cell_type": "markdown",
   "metadata": {},
   "source": [
    "### 1. Bag of words vectorization"
   ]
  },
  {
   "cell_type": "code",
   "execution_count": 54,
   "metadata": {},
   "outputs": [],
   "source": [
    "bow_vect=CountVectorizer(ngram_range=(1,4),max_features=25000,min_df=50)\n",
    "train_vect=bow_vect.fit_transform(X_train)\n",
    "cv_vect=bow_vect.transform(X_cv)\n",
    "test_vect=bow_vect.transform(X_test)"
   ]
  },
  {
   "cell_type": "code",
   "execution_count": 55,
   "metadata": {},
   "outputs": [
    {
     "name": "stdout",
     "output_type": "stream",
     "text": [
      "The Optimum number of K neighbours in this model is 5 with F1_score of 0.284\n"
     ]
    }
   ],
   "source": [
    "bestK_bow_brute=findBestK(train_vect,Y_train,cv_vect,Y_cv,\"brute\")"
   ]
  },
  {
   "cell_type": "code",
   "execution_count": 56,
   "metadata": {},
   "outputs": [
    {
     "name": "stdout",
     "output_type": "stream",
     "text": [
      "The Testing F1_score of this model is 0.283 with K-Value 5\n"
     ]
    }
   ],
   "source": [
    "test_clf=KNeighborsClassifier(n_neighbors=bestK_bow_brute,algorithm='brute',weights=\"distance\",n_jobs=1)\n",
    "test_clf.fit(train_vect,Y_train)\n",
    "pred_bow_brute=test_clf.predict(test_vect)\n",
    "test_score = f1_score(Y_test, pred_bow_brute,pos_label=\"Negative\")\n",
    "print(\"The Testing F1_score of this model is {0} with K-Value {1}\".format(round(test_score,3),bestK_bow_brute))"
   ]
  },
  {
   "cell_type": "markdown",
   "metadata": {},
   "source": [
    "<ol> Since our sample is more skewed towards positive class I'm taking Negative class label with highest F1_score"
   ]
  },
  {
   "cell_type": "code",
   "execution_count": 57,
   "metadata": {},
   "outputs": [
    {
     "data": {
      "image/png": "[encoded data removed]",
      "text/plain": [
       "<Figure size 432x288 with 2 Axes>"
      ]
     },
     "metadata": {},
     "output_type": "display_data"
    }
   ],
   "source": [
    "conf_matrix=confusion_matrix(Y_test,pred_bow_brute)\n",
    "heat_map=sns.heatmap(conf_matrix,annot=True,fmt='d')"
   ]
  },
  {
   "cell_type": "code",
   "execution_count": 58,
   "metadata": {},
   "outputs": [
    {
     "name": "stdout",
     "output_type": "stream",
     "text": [
      "             precision    recall  f1-score   support\n",
      "\n",
      "   Negative       0.67      0.18      0.28      4083\n",
      "   Positive       0.85      0.98      0.91     19917\n",
      "\n",
      "avg / total       0.82      0.85      0.81     24000\n",
      "\n"
     ]
    }
   ],
   "source": [
    "print(classification_report(Y_test,pred_bow_brute))"
   ]
  },
  {
   "cell_type": "code",
   "execution_count": 6,
   "metadata": {},
   "outputs": [],
   "source": [
    "t=PrettyTable(['Model','Vectorizer','Brute/KD_Tree','K-value','avg F1 Score'])\n",
    "t.add_row(['KNN classifier',\"BOW\",\"Brute\",\"k=5\",0.81])"
   ]
  },
  {
   "cell_type": "markdown",
   "metadata": {},
   "source": [
    "### 1.1 Bow vectorization with  KD-Tree Algo"
   ]
  },
  {
   "cell_type": "markdown",
   "metadata": {},
   "source": [
    "<ol>Reducing the dimensions of the vectors to run with <b>kd_tree</b> algorithm"
   ]
  },
  {
   "cell_type": "code",
   "execution_count": 59,
   "metadata": {},
   "outputs": [],
   "source": [
    "dim_reduction_bow=TruncatedSVD(n_components=2000,random_state=0)\n",
    "train_vect_bow_kdtree=dim_reduction_bow.fit_transform(train_vect)\n",
    "cv_vect_bow_kdtree=dim_reduction_bow.transform(cv_vect)\n",
    "test_vect_bow_kdtree=dim_reduction_bow.transform(test_vect)"
   ]
  },
  {
   "cell_type": "code",
   "execution_count": 60,
   "metadata": {},
   "outputs": [
    {
     "name": "stdout",
     "output_type": "stream",
     "text": [
      "The Optimum number of K neighbours in this model is 5 with F1_score of 0.31\n"
     ]
    }
   ],
   "source": [
    "bestK_bow_kd=findBestK(train_vect_bow_kdtree,Y_train,cv_vect_bow_kdtree,Y_cv,\"kd_tree\")"
   ]
  },
  {
   "cell_type": "code",
   "execution_count": 61,
   "metadata": {},
   "outputs": [
    {
     "name": "stdout",
     "output_type": "stream",
     "text": [
      "The F1_score of Negative label of this model is 0.322 with K-Value 5\n"
     ]
    }
   ],
   "source": [
    "test_clf_kd=KNeighborsClassifier(n_neighbors=bestK_bow_kd,algorithm='kd_tree',weights=\"distance\",n_jobs=-1)\n",
    "test_clf_kd.fit(train_vect_bow_kdtree,Y_train)\n",
    "pred_bow_kd=test_clf_kd.predict(test_vect_bow_kdtree)\n",
    "test_score = f1_score(Y_test, pred_bow_kd,pos_label=\"Negative\")\n",
    "print(\"The F1_score of Negative label of this model is {0} with K-Value {1}\".format(round(test_score,3),bestK_bow_kd))"
   ]
  },
  {
   "cell_type": "code",
   "execution_count": null,
   "metadata": {},
   "outputs": [],
   "source": [
    "filename='grid_bow_kdtree_model.sav'\n",
    "pickle.dump(grid_bow_kd,open(filename,'wb'))"
   ]
  },
  {
   "cell_type": "code",
   "execution_count": 62,
   "metadata": {},
   "outputs": [
    {
     "data": {
      "image/png": "[encoded data removed]",
      "text/plain": [
       "<Figure size 432x288 with 2 Axes>"
      ]
     },
     "metadata": {},
     "output_type": "display_data"
    }
   ],
   "source": [
    "conf_matrix=confusion_matrix(Y_test,pred_bow_kd)\n",
    "heat_map=sns.heatmap(conf_matrix,annot=True,fmt='d')"
   ]
  },
  {
   "cell_type": "code",
   "execution_count": 63,
   "metadata": {},
   "outputs": [
    {
     "name": "stdout",
     "output_type": "stream",
     "text": [
      "             precision    recall  f1-score   support\n",
      "\n",
      "   Negative       0.67      0.21      0.32      4083\n",
      "   Positive       0.86      0.98      0.91     19917\n",
      "\n",
      "avg / total       0.83      0.85      0.81     24000\n",
      "\n"
     ]
    }
   ],
   "source": [
    "print(classification_report(Y_test,pred_bow_kd))"
   ]
  },
  {
   "cell_type": "markdown",
   "metadata": {},
   "source": [
    "<ol>The F1_score of Negative label is incresed comparing with Brute force approch from <b>0.28 to 0.32</b>"
   ]
  },
  {
   "cell_type": "code",
   "execution_count": 7,
   "metadata": {},
   "outputs": [],
   "source": [
    "t.add_row(['KNN classifier',\"BOW\",\"KD-Tree\",\"k=5\",0.81])"
   ]
  },
  {
   "cell_type": "markdown",
   "metadata": {},
   "source": [
    "### 2.  TF-IDF Vectorization"
   ]
  },
  {
   "cell_type": "code",
   "execution_count": 11,
   "metadata": {},
   "outputs": [],
   "source": [
    "tfidf_vect=TfidfVectorizer(ngram_range=(1,2))\n",
    "tfidf_train_brute=tfidf_vect.fit_transform(X_train)\n",
    "tfidf_test_brute=tfidf_vect.transform(X_test)\n",
    "tfidf_cv_brute=tfidf_vect.transform(X_cv)"
   ]
  },
  {
   "cell_type": "code",
   "execution_count": 13,
   "metadata": {},
   "outputs": [
    {
     "name": "stdout",
     "output_type": "stream",
     "text": [
      "The Optimum number of K neighbours in this model is 5 with F1_score of 0.387\n"
     ]
    }
   ],
   "source": [
    "neighbors=[i for i in range(5,19,2)]\n",
    "f1_scores_tf=[]\n",
    "for k in neighbors:\n",
    "    clf=KNeighborsClassifier(n_neighbors=k,algorithm='brute',n_jobs=-1)\n",
    "    clf.fit(tfidf_train_brute,Y_train)\n",
    "    pred=clf.predict(tfidf_cv_brute)\n",
    "    f1 = f1_score(Y_cv, pred,pos_label='Negative')\n",
    "    f1_scores_tf.append(f1)\n",
    "max_score=max(f1_scores_tf)\n",
    "index_k=list(f1_scores_tf).index(max_score)\n",
    "best_k=neighbors[index_k]\n",
    "print(\"The Optimum number of K neighbours in this model is {0} with F1_score of {1}\".format(best_k,round(max_score,3)))"
   ]
  },
  {
   "cell_type": "code",
   "execution_count": 15,
   "metadata": {},
   "outputs": [
    {
     "name": "stdout",
     "output_type": "stream",
     "text": [
      "The F1_score for Negative label of this model is 0.393 with K-Value 5\n"
     ]
    }
   ],
   "source": [
    "test_clf_brute=KNeighborsClassifier(n_neighbors=best_k,algorithm='brute',weights=\"distance\",n_jobs=-1)\n",
    "test_clf_brute.fit(tfidf_train_brute,Y_train)\n",
    "pred_tf_brute=test_clf_brute.predict(tfidf_test_brute)\n",
    "test_score = f1_score(Y_test, pred_tf_brute,pos_label=\"Negative\")\n",
    "print(\"The F1_score for Negative label of this model is {0} with K-Value {1}\".format(round(test_score,3),best_k))"
   ]
  },
  {
   "cell_type": "code",
   "execution_count": null,
   "metadata": {},
   "outputs": [],
   "source": [
    "filename='grid_tfidf_brute_model.sav'\n",
    "pickle.dump(grid_tfidf,open(filename,'wb'))"
   ]
  },
  {
   "cell_type": "code",
   "execution_count": 16,
   "metadata": {},
   "outputs": [
    {
     "data": {
      "image/png": "[encoded data removed]",
      "text/plain": [
       "<Figure size 432x288 with 2 Axes>"
      ]
     },
     "metadata": {},
     "output_type": "display_data"
    }
   ],
   "source": [
    "conf_matrix=confusion_matrix(Y_test,pred_tf_brute)\n",
    "heat_map=sns.heatmap(conf_matrix,annot=True,fmt='d')"
   ]
  },
  {
   "cell_type": "code",
   "execution_count": 20,
   "metadata": {},
   "outputs": [
    {
     "name": "stdout",
     "output_type": "stream",
     "text": [
      "             precision    recall  f1-score   support\n",
      "\n",
      "   Negative       0.74      0.27      0.39      4198\n",
      "   Positive       0.86      0.98      0.92     19802\n",
      "\n",
      "avg / total       0.84      0.86      0.83     24000\n",
      "\n"
     ]
    }
   ],
   "source": [
    "print(classification_report(Y_test,pred_tf_brute))"
   ]
  },
  {
   "cell_type": "code",
   "execution_count": 8,
   "metadata": {},
   "outputs": [],
   "source": [
    "t.add_row(['KNN classifier',\"TFIDF\",\"Brute\",\"k=5\",0.83])"
   ]
  },
  {
   "cell_type": "markdown",
   "metadata": {},
   "source": [
    "### 2.1 TFIDF using KDtree"
   ]
  },
  {
   "cell_type": "code",
   "execution_count": 28,
   "metadata": {},
   "outputs": [],
   "source": [
    "dim_reduction_tfidf=TruncatedSVD(n_components=1000,algorithm='randomized')\n",
    "trainSVD_tfidf_kd=dim_reduction_tfidf.fit_transform(tfidf_train_brute)"
   ]
  },
  {
   "cell_type": "code",
   "execution_count": 29,
   "metadata": {},
   "outputs": [],
   "source": [
    "testSVD_tfidf_kd=dim_reduction_tfidf.transform(tfidf_test_brute)\n",
    "cvSVD_tfidf_kd=dim_reduction_tfidf.transform(tfidf_cv_brute)"
   ]
  },
  {
   "cell_type": "code",
   "execution_count": 32,
   "metadata": {},
   "outputs": [
    {
     "name": "stdout",
     "output_type": "stream",
     "text": [
      "The Optimum number of K neighbours in this model is 5 with F1_score of 0.23\n"
     ]
    }
   ],
   "source": [
    "neighbors=[i for i in range(5,19,2)]\n",
    "f1_scores_kd=[]\n",
    "for k in neighbors:\n",
    "    clf=KNeighborsClassifier(n_neighbors=k,algorithm='kd_tree',n_jobs=-1)\n",
    "    clf.fit(trainSVD_tfidf_kd,Y_train)\n",
    "    pred=clf.predict(cvSVD_tfidf_kd)\n",
    "    f1 = f1_score(Y_cv, pred,pos_label='Negative')\n",
    "    f1_scores_kd.append(f1)\n",
    "max_score=max(f1_scores_kd)\n",
    "index_k=list(f1_scores_kd).index(max_score)\n",
    "best_k_kd=neighbors[index_k]\n",
    "print(\"The Optimum number of K neighbours in this model is {0} with F1_score of {1}\".format(best_k,round(max_score,3)))"
   ]
  },
  {
   "cell_type": "code",
   "execution_count": 33,
   "metadata": {},
   "outputs": [
    {
     "name": "stdout",
     "output_type": "stream",
     "text": [
      "The F1_score for Negative label of this model is 0.228 with K-Value 5\n"
     ]
    }
   ],
   "source": [
    "test_clf_kd=KNeighborsClassifier(n_neighbors=best_k_kd,algorithm='kd_tree',weights=\"distance\",n_jobs=-1)\n",
    "test_clf_kd.fit(trainSVD_tfidf_kd,Y_train)\n",
    "pred_tfidf_kd=test_clf_kd.predict(testSVD_tfidf_kd)\n",
    "test_score = f1_score(Y_test, pred_tfidf_kd,pos_label=\"Negative\")\n",
    "print(\"The F1_score for Negative label of this model is {0} with K-Value {1}\".format(round(test_score,3),best_k_kd))"
   ]
  },
  {
   "cell_type": "code",
   "execution_count": 34,
   "metadata": {},
   "outputs": [
    {
     "data": {
      "image/png": "[encoded data removed]",
      "text/plain": [
       "<Figure size 432x288 with 2 Axes>"
      ]
     },
     "metadata": {},
     "output_type": "display_data"
    }
   ],
   "source": [
    "conf_matrix=confusion_matrix(Y_test,pred_tfidf_kd)\n",
    "heat_map=sns.heatmap(conf_matrix,annot=True,fmt='d')"
   ]
  },
  {
   "cell_type": "code",
   "execution_count": 35,
   "metadata": {},
   "outputs": [
    {
     "name": "stdout",
     "output_type": "stream",
     "text": [
      "             precision    recall  f1-score   support\n",
      "\n",
      "   Negative       0.63      0.14      0.23      4198\n",
      "   Positive       0.84      0.98      0.91     19802\n",
      "\n",
      "avg / total       0.81      0.84      0.79     24000\n",
      "\n"
     ]
    }
   ],
   "source": [
    "print(classification_report(Y_test,pred_tfidf_kd))"
   ]
  },
  {
   "cell_type": "code",
   "execution_count": 9,
   "metadata": {},
   "outputs": [],
   "source": [
    "t.add_row(['KNN classifier',\"TFIDF\",\"KD-Tree\",\"k=5\",0.79])"
   ]
  },
  {
   "cell_type": "code",
   "execution_count": 36,
   "metadata": {},
   "outputs": [
    {
     "data": {
      "image/png": "[encoded data removed]",
      "text/plain": [
       "<Figure size 432x288 with 1 Axes>"
      ]
     },
     "metadata": {},
     "output_type": "display_data"
    }
   ],
   "source": [
    "plot_error(f1_scores_tf,f1_scores_kd,neighbors)"
   ]
  },
  {
   "cell_type": "markdown",
   "metadata": {},
   "source": [
    "### 3.Word2Vec training"
   ]
  },
  {
   "cell_type": "code",
   "execution_count": 9,
   "metadata": {},
   "outputs": [
    {
     "name": "stdout",
     "output_type": "stream",
     "text": [
      "['true', 'lover', 'hot', 'chocol', 'chocol', 'not', 'great', 'tast', 'flat', 'not', 'tast', 'chocolati', 'truli', 'disaapoint', 'share', 'state', 'not', 'like', 'either', 'exact', 'word', 'unusu', 'tast', 'not', 'good', 'hot', 'chocol', 'horribl', 'mayb', 'batch', 'receiv']\n",
      "9328\n"
     ]
    }
   ],
   "source": [
    "w2v_list_train=[]\n",
    "for sent in (X_train):\n",
    "    w2v_list_train.append(sent.split())\n",
    "print(w2v_list_train[0])\n",
    "w2v_model_train=Word2Vec(w2v_list_train,size=50,min_count=5,workers=4)\n",
    "w2v_words_train=list(w2v_model_train.wv.vocab)\n",
    "print(len(w2v_words_train))"
   ]
  },
  {
   "cell_type": "code",
   "execution_count": 10,
   "metadata": {},
   "outputs": [
    {
     "name": "stdout",
     "output_type": "stream",
     "text": [
      "['dog', 'love', 'give', 'one', 'settl', 'serious', 'chew', 'gone', 'give', 'rawhid', 'strip', 'bone', 'shes', 'like', 'buri', 'later', 'use', 'evid', 'bulli', 'spring', 'dont', 'need', 'season', 'chew', 'tend', 'use', 'bulli', 'spring', 'distract', 'doesnt', 'continu', 'jump', 'around', 'new', 'guest', 'otherwis', 'get', 'excit', 'big', 'box', 'spring', 'order', 'amazon', 'half', 'price', 'better', 'store', 'great', 'chew']\n",
      "4941\n"
     ]
    }
   ],
   "source": [
    "w2v_list_cv=[]\n",
    "for sent in (X_cv):\n",
    "    w2v_list_cv.append(sent.split())\n",
    "print(w2v_list_cv[0])\n",
    "w2v_model_cv=Word2Vec(w2v_list_cv,size=50,min_count=5,workers=4)\n",
    "w2v_words_cv=list(w2v_model_cv.wv.vocab)\n",
    "print(len(w2v_words_cv))"
   ]
  },
  {
   "cell_type": "code",
   "execution_count": 11,
   "metadata": {},
   "outputs": [
    {
     "name": "stdout",
     "output_type": "stream",
     "text": [
      "['ive', 'wait', 'day', 'arriv', 'final', 'immedi', 'check', 'ingredi', 'back', 'find', 'main', 'ingredi', 'not', 'monk', 'fruit', 'concentr', 'inulin', 'cheap', 'starchi', 'filler', 'not', 'good', 'sever', 'side', 'effect', 'includ', 'anaphylact', 'shock', 'urg', 'homework', 'inulin', 'inulin', 'shown', 'not', 'feed', 'good', 'bacteria', 'stomach', 'also', 'bad', 'bacteria', 'klebsiella', 'recent', 'studi', 'shown', 'inulin', 'encourag', 'growth', 'klebsiella', 'bacteria', 'implic', 'ankylos', 'spondyl', 'increas', 'intestin', 'permeabl', 'leaki', 'gut', 'although', 'klebsiella', 'present', 'colon', 'most', 'peopl', 'held', 'check', 'benefici', 'bacteria', 'harmless', 'within', 'colon', 'get', 'area', 'bodi', 'klebsiella', 'becom', 'major', 'caus', 'pneumonia', 'infect', 'urinari', 'tract', 'wound', 'sometim', 'death', 'han', 'product', 'also', 'contain', 'silica', 'want', 'eat', 'silica', 'know', 'stuff', 'also', 'use', 'make', 'not', 'eat', 'dessic', 'packet', 'swanson', 'ought', 'list', 'ingredi', 'product', 'caus', 'purelo', 'far', 'pure', 'decept', 'market', 'worst', 'yes', 'return', 'ought', 'time', 'ship', 'handl', 'hassl', 'return', 'main', 'ingredi', 'inulin', 'not', 'han']\n",
      "7002\n"
     ]
    }
   ],
   "source": [
    "w2v_list_test=[]\n",
    "for sent in (X_test):\n",
    "    w2v_list_test.append(sent.split())\n",
    "print(w2v_list_test[0])\n",
    "w2v_model_test=Word2Vec(w2v_list_test,size=50,min_count=5,workers=4)\n",
    "w2v_words_test=list(w2v_model_test.wv.vocab)\n",
    "print(len(w2v_words_test))"
   ]
  },
  {
   "cell_type": "markdown",
   "metadata": {},
   "source": [
    "### 4. Average word2Vec"
   ]
  },
  {
   "cell_type": "code",
   "execution_count": 12,
   "metadata": {},
   "outputs": [
    {
     "name": "stdout",
     "output_type": "stream",
     "text": [
      "44800\n",
      "[ 0.49952556 -0.4230894   0.1741739   0.40773421  0.33176213 -0.29331828\n",
      " -0.00845917 -0.78626998  0.99839728 -0.64263202 -1.06399214  0.13603926\n",
      " -0.03015647  0.73422037 -0.30936285 -0.16378455 -0.92852098 -0.0988057\n",
      "  0.36754719  0.48625411 -1.31355942  0.61393537 -0.10105564 -1.31761689\n",
      " -0.1929671  -0.1477939   0.42390782 -1.11902154  0.19522903  0.20521444\n",
      " -0.35014897  0.67960577  1.21009142  0.4425696   0.07161876  1.49774604\n",
      "  0.26269026  0.59936838 -1.21998679  0.43611679  0.60465174 -0.13011743\n",
      "  0.06891296 -0.27603273  0.73276761  0.58621907 -0.18455848 -0.11061416\n",
      " -0.08777689 -0.73061282]\n"
     ]
    }
   ],
   "source": [
    "#AvgW2v on train data\n",
    "sent_vect_train=[]\n",
    "for sent in w2v_list_train:\n",
    "    sent_vec=np.zeros(50)\n",
    "    cnt_words=0\n",
    "    for word in sent:\n",
    "        if word in w2v_words_train:\n",
    "            vec=w2v_model_train.wv[word]\n",
    "            sent_vec+=vec\n",
    "            cnt_words+=1\n",
    "    if cnt_words !=0:\n",
    "        sent_vec/=cnt_words\n",
    "    sent_vect_train.append(sent_vec)\n",
    "    \n",
    "print(len(sent_vect_train))\n",
    "print(sent_vect_train[0])"
   ]
  },
  {
   "cell_type": "code",
   "execution_count": 13,
   "metadata": {},
   "outputs": [
    {
     "name": "stdout",
     "output_type": "stream",
     "text": [
      "11200\n",
      "[-0.2955051  -0.48158105  0.09358768  0.46525001 -0.46571965  0.01272645\n",
      "  0.22340674 -0.09277652  0.01295718 -0.45408379  0.01267739  0.24127082\n",
      " -0.38976967 -0.05340886 -0.4527289  -0.47591909  0.13859606  0.32510492\n",
      "  0.57994357  0.16072013  0.51193767  0.54158158 -0.17299617 -0.19010597\n",
      " -0.18449507 -0.49954991 -0.19324094 -0.06507734  0.32679222  0.77685502\n",
      "  0.15689505  0.13360918  0.25585484 -0.12184526 -0.03402507 -0.10488633\n",
      "  0.34607944 -0.07977867 -0.00297943 -0.27801957 -0.11378844 -0.18381026\n",
      "  0.28685667 -0.00890061  0.91508102 -0.22144775 -0.31470658 -0.55148542\n",
      " -0.15745187  0.2778125 ]\n"
     ]
    }
   ],
   "source": [
    "#AvgW2v on cv data\n",
    "sent_vect_cv=[]\n",
    "for sent in w2v_list_cv:\n",
    "    sent_vec=np.zeros(50)\n",
    "    cnt_words=0\n",
    "    for word in sent:\n",
    "        if word in w2v_words_cv:\n",
    "            vec=w2v_model_cv.wv[word]\n",
    "            sent_vec+=vec\n",
    "            cnt_words+=1\n",
    "    if cnt_words !=0:\n",
    "        sent_vec/=cnt_words\n",
    "    sent_vect_cv.append(sent_vec)\n",
    "    \n",
    "print(len(sent_vect_cv))\n",
    "print(sent_vect_cv[0])"
   ]
  },
  {
   "cell_type": "code",
   "execution_count": 14,
   "metadata": {},
   "outputs": [
    {
     "name": "stdout",
     "output_type": "stream",
     "text": [
      "24000\n",
      "[ 0.04106179 -0.23785693 -0.27459841  0.34428952 -0.25746887  0.26578435\n",
      " -0.21412114 -0.58184341  0.38997649 -0.50842614 -0.22489898  0.00649351\n",
      " -0.00840765 -0.02670931 -0.11130016 -0.18736247 -0.32520873 -0.07920401\n",
      "  0.69748061  0.60972429  0.39456024  0.25813003  0.06791367 -0.230254\n",
      " -0.07259998 -0.27409299  0.02214938 -0.23227535  0.64857868  0.2661469\n",
      "  0.00876462  0.39776008  0.63000922  0.1267206  -0.00925771  0.17150833\n",
      " -0.16296932  0.54853393 -0.50197005  0.29709186 -0.49295851 -0.31001504\n",
      "  0.41097927  0.07288483  0.91578904 -0.40161081 -0.06400215  0.38196567\n",
      "  0.03033624 -0.10070279]\n"
     ]
    }
   ],
   "source": [
    "#AvgW2v on test data\n",
    "sent_vect_test=[]\n",
    "for sent in w2v_list_test:\n",
    "    sent_vec=np.zeros(50)\n",
    "    cnt_words=0\n",
    "    for word in sent:\n",
    "        if word in w2v_words_test:\n",
    "            vec=w2v_model_test.wv[word]\n",
    "            sent_vec+=vec\n",
    "            cnt_words+=1\n",
    "    if cnt_words !=0:\n",
    "        sent_vec/=cnt_words\n",
    "    sent_vect_test.append(sent_vec)\n",
    "    \n",
    "print(len(sent_vect_test))\n",
    "print(sent_vect_test[0])"
   ]
  },
  {
   "cell_type": "code",
   "execution_count": 26,
   "metadata": {},
   "outputs": [
    {
     "name": "stdout",
     "output_type": "stream",
     "text": [
      "The Optimum number of K neighbours in this model is 5 with F1_score of 0.161\n"
     ]
    }
   ],
   "source": [
    "neighbors=[i for i in range(5,19,2)]\n",
    "scores_avg_brute=[]\n",
    "for k in neighbors:\n",
    "    clf=KNeighborsClassifier(n_neighbors=k,algorithm='brute',n_jobs=-1)\n",
    "    clf.fit(sent_vect_train,Y_train)\n",
    "    pred=clf.predict(sent_vect_cv)\n",
    "    f1 = f1_score(Y_cv, pred,pos_label='Negative')\n",
    "    scores_avg_brute.append(f1)\n",
    "max_score=max(scores_avg_brute)\n",
    "index_k=list(scores_avg_brute).index(max_score)\n",
    "best_k_brute=neighbors[index_k]\n",
    "print(\"The Optimum number of K neighbours in this model is {0} with F1_score of {1}\".format(best_k_brute,round(max_score,3)))"
   ]
  },
  {
   "cell_type": "code",
   "execution_count": 27,
   "metadata": {},
   "outputs": [
    {
     "name": "stdout",
     "output_type": "stream",
     "text": [
      "The F1_score for Negative label of this model is 0.1 with K-Value 5\n"
     ]
    }
   ],
   "source": [
    "test_clf_brute=KNeighborsClassifier(n_neighbors=best_k_brute,algorithm='brute',weights=\"distance\",n_jobs=-1)\n",
    "test_clf_brute.fit(sent_vect_train,Y_train)\n",
    "pred_avg_brute=test_clf_brute.predict(sent_vect_test)\n",
    "test_score = f1_score(Y_test, pred_avg_brute,pos_label=\"Negative\")\n",
    "print(\"The F1_score for Negative label of this model is {0} with K-Value {1}\".format(round(test_score,3),best_k_brute))"
   ]
  },
  {
   "cell_type": "code",
   "execution_count": 28,
   "metadata": {},
   "outputs": [
    {
     "data": {
      "image/png": "[encoded data removed]",
      "text/plain": [
       "<Figure size 432x288 with 2 Axes>"
      ]
     },
     "metadata": {},
     "output_type": "display_data"
    }
   ],
   "source": [
    "conf_matrix=confusion_matrix(Y_test,pred_avg_brute)\n",
    "heat_map=sns.heatmap(conf_matrix,annot=True,fmt='d')"
   ]
  },
  {
   "cell_type": "code",
   "execution_count": 29,
   "metadata": {},
   "outputs": [
    {
     "name": "stdout",
     "output_type": "stream",
     "text": [
      "             precision    recall  f1-score   support\n",
      "\n",
      "   Negative       0.69      0.05      0.10      4120\n",
      "   Positive       0.84      0.99      0.91     19880\n",
      "\n",
      "avg / total       0.81      0.83      0.77     24000\n",
      "\n"
     ]
    }
   ],
   "source": [
    "print(classification_report(Y_test,pred_avg_brute))"
   ]
  },
  {
   "cell_type": "code",
   "execution_count": 10,
   "metadata": {},
   "outputs": [],
   "source": [
    "t.add_row(['KNN classifier',\"AVGW2V\",\"Brute\",\"k=5\",0.77])"
   ]
  },
  {
   "cell_type": "markdown",
   "metadata": {},
   "source": [
    "### 4.1 AvgW2V with KDtree"
   ]
  },
  {
   "cell_type": "code",
   "execution_count": 21,
   "metadata": {},
   "outputs": [
    {
     "name": "stdout",
     "output_type": "stream",
     "text": [
      "The Optimum number of K neighbours in this model is 5 with F1_score of 0.161 for Negative label\n"
     ]
    }
   ],
   "source": [
    "neighbors=[i for i in range(5,19,2)]\n",
    "scores_avg_kd=[]\n",
    "for k in neighbors:\n",
    "    clf=KNeighborsClassifier(n_neighbors=k,algorithm='kd_tree',n_jobs=-1)\n",
    "    clf.fit(sent_vect_train,Y_train)\n",
    "    pred=clf.predict(sent_vect_cv)\n",
    "    f1 = f1_score(Y_cv, pred,pos_label='Negative')\n",
    "    scores_avg_kd.append(f1)\n",
    "max_score=max(scores_avg_kd)\n",
    "index_k=list(scores_avg_kd).index(max_score)\n",
    "best_k_kd=neighbors[index_k]\n",
    "print(\"The Optimum number of K neighbours in this model is {0} with F1_score of {1} for Negative label\".format(best_k_kd,round(max_score,3)))"
   ]
  },
  {
   "cell_type": "code",
   "execution_count": 22,
   "metadata": {},
   "outputs": [
    {
     "name": "stdout",
     "output_type": "stream",
     "text": [
      "The F1_score for Negative label of this model is 0.1 with K-Value 5\n"
     ]
    }
   ],
   "source": [
    "test_clf_kd=KNeighborsClassifier(n_neighbors=best_k_kd,algorithm='kd_tree',weights=\"distance\",n_jobs=-1)\n",
    "test_clf_kd.fit(sent_vect_train,Y_train)\n",
    "pred_avg_kd=test_clf_kd.predict(sent_vect_test)\n",
    "test_score = f1_score(Y_test, pred_avg_kd,pos_label=\"Negative\")\n",
    "print(\"The F1_score for Negative label of this model is {0} with K-Value {1}\".format(round(test_score,3),best_k_kd))"
   ]
  },
  {
   "cell_type": "code",
   "execution_count": 23,
   "metadata": {},
   "outputs": [
    {
     "data": {
      "image/png": "[encoded data removed]",
      "text/plain": [
       "<Figure size 432x288 with 2 Axes>"
      ]
     },
     "metadata": {},
     "output_type": "display_data"
    }
   ],
   "source": [
    "conf_matrix=confusion_matrix(Y_test,pred_avg_kd)\n",
    "heat_map=sns.heatmap(conf_matrix,annot=True,fmt='d')"
   ]
  },
  {
   "cell_type": "code",
   "execution_count": 24,
   "metadata": {},
   "outputs": [
    {
     "name": "stdout",
     "output_type": "stream",
     "text": [
      "             precision    recall  f1-score   support\n",
      "\n",
      "   Negative       0.69      0.05      0.10      4120\n",
      "   Positive       0.84      0.99      0.91     19880\n",
      "\n",
      "avg / total       0.81      0.83      0.77     24000\n",
      "\n"
     ]
    }
   ],
   "source": [
    "print(classification_report(Y_test,pred_avg_kd))"
   ]
  },
  {
   "cell_type": "code",
   "execution_count": 11,
   "metadata": {},
   "outputs": [],
   "source": [
    "t.add_row(['KNN classifier',\"AVGW2V\",\"KD_Tree\",\"k=5\",0.77])"
   ]
  },
  {
   "cell_type": "code",
   "execution_count": 30,
   "metadata": {},
   "outputs": [
    {
     "data": {
      "image/png": "[encoded data removed]",
      "text/plain": [
       "<Figure size 432x288 with 1 Axes>"
      ]
     },
     "metadata": {},
     "output_type": "display_data"
    }
   ],
   "source": [
    "plot_error(scores_avg_brute,scores_avg_kd,neighbors)"
   ]
  },
  {
   "cell_type": "markdown",
   "metadata": {},
   "source": [
    "<ol>As dimension of data passed to both KD_tree and Brute algos is same hence we got same results for both algorithms"
   ]
  },
  {
   "cell_type": "markdown",
   "metadata": {},
   "source": [
    "### 5.TFIDF Weighted word2Vec"
   ]
  },
  {
   "cell_type": "code",
   "execution_count": 15,
   "metadata": {},
   "outputs": [],
   "source": [
    "tfidf_vect_train=TfidfVectorizer(ngram_range=(1,2))\n",
    "data_vect_train=tfidf_vect_train.fit_transform(X_train)\n",
    "dictionary_train = dict(zip(tfidf_vect_train.get_feature_names(), list(tfidf_vect_train.idf_)))\n",
    "\n",
    "tfidf_vect_cv=TfidfVectorizer(ngram_range=(1,2))\n",
    "data_vect_cv=tfidf_vect_cv.fit_transform(X_cv)\n",
    "dictionary_cv = dict(zip(tfidf_vect_cv.get_feature_names(), list(tfidf_vect_cv.idf_)))"
   ]
  },
  {
   "cell_type": "code",
   "execution_count": 17,
   "metadata": {},
   "outputs": [],
   "source": [
    "tfidf_vect_test=TfidfVectorizer(ngram_range=(1,2))\n",
    "data_vect_test=tfidf_vect_test.fit_transform(X_test)\n",
    "dictionary_test = dict(zip(tfidf_vect_test.get_feature_names(), list(tfidf_vect_test.idf_)))"
   ]
  },
  {
   "cell_type": "code",
   "execution_count": 18,
   "metadata": {},
   "outputs": [],
   "source": [
    "features_tfidf_train=tfidf_vect_train.get_feature_names()\n",
    "tfidf_train_vect=[]\n",
    "\n",
    "row=0\n",
    "for sent in w2v_list_train:\n",
    "    sent_vec=np.zeros(50)\n",
    "    weight_sum=0\n",
    "    for word in sent:\n",
    "        if word in w2v_words_train:\n",
    "            vec=w2v_model_train.wv[word]\n",
    "            tf_idf=dictionary_train[word]*sent.count(word)\n",
    "            sent_vec+=(vec*tf_idf)\n",
    "            weight_sum+=tf_idf\n",
    "            \n",
    "    if weight_sum != 0:\n",
    "        sent_vec /= weight_sum\n",
    "    tfidf_train_vect.append(sent_vec)\n",
    "    row += 1"
   ]
  },
  {
   "cell_type": "code",
   "execution_count": 19,
   "metadata": {},
   "outputs": [],
   "source": [
    "tfidf_cv_vect=[]\n",
    "\n",
    "row=0\n",
    "for sent in w2v_list_cv:\n",
    "    sent_vec=np.zeros(50)\n",
    "    weight_sum=0\n",
    "    for word in sent:\n",
    "        if word in w2v_words_cv:\n",
    "            vec=w2v_model_cv.wv[word]\n",
    "            tf_idf=dictionary_cv[word]*sent.count(word)\n",
    "            sent_vec+=(vec*tf_idf)\n",
    "            weight_sum+=tf_idf\n",
    "            \n",
    "    if weight_sum != 0:\n",
    "        sent_vec /= weight_sum\n",
    "    tfidf_cv_vect.append(sent_vec)\n",
    "    row += 1"
   ]
  },
  {
   "cell_type": "code",
   "execution_count": 20,
   "metadata": {},
   "outputs": [],
   "source": [
    "tfidf_test_vect=[]\n",
    "\n",
    "row=0\n",
    "for sent in w2v_list_test:\n",
    "    sent_vec=np.zeros(50)\n",
    "    weight_sum=0\n",
    "    for word in sent:\n",
    "        if word in w2v_words_test:\n",
    "            vec=w2v_model_test.wv[word]\n",
    "            tf_idf=dictionary_test[word]*sent.count(word)\n",
    "            sent_vec+=(vec*tf_idf)\n",
    "            weight_sum+=tf_idf\n",
    "            \n",
    "    if weight_sum != 0:\n",
    "        sent_vec /= weight_sum\n",
    "    tfidf_test_vect.append(sent_vec)\n",
    "    row += 1"
   ]
  },
  {
   "cell_type": "code",
   "execution_count": null,
   "metadata": {},
   "outputs": [],
   "source": [
    "std_tfidf=std.fit_transform(tfidf_sent_vect)\n",
    "X_train_w2v,X_test_w2v,Y_train_w2v,Y_test_w2v=train_test_split(tfidf_sent_vect,final_data['Score'],test_size=0.3,shuffle=False,random_state=11)"
   ]
  },
  {
   "cell_type": "code",
   "execution_count": 21,
   "metadata": {},
   "outputs": [
    {
     "name": "stdout",
     "output_type": "stream",
     "text": [
      "The Optimum number of K neighbours in this model is 5 with F1_score of 0.107 for Negative label\n"
     ]
    }
   ],
   "source": [
    "neighbors=[i for i in range(5,19,2)]\n",
    "scores_avg_brute=[]\n",
    "for k in neighbors:\n",
    "    clf=KNeighborsClassifier(n_neighbors=k,algorithm='brute',n_jobs=-1)\n",
    "    clf.fit(tfidf_train_vect,Y_train)\n",
    "    pred=clf.predict(tfidf_cv_vect)\n",
    "    f1 = f1_score(Y_cv, pred,pos_label='Negative')\n",
    "    scores_avg_brute.append(f1)\n",
    "max_score=max(scores_avg_brute)\n",
    "index_k=list(scores_avg_brute).index(max_score)\n",
    "best_k=neighbors[index_k]\n",
    "print(\"The Optimum number of K neighbours in this model is {0} with F1_score of {1} for Negative label\".format(best_k,round(max_score,3)))"
   ]
  },
  {
   "cell_type": "code",
   "execution_count": 22,
   "metadata": {},
   "outputs": [
    {
     "name": "stdout",
     "output_type": "stream",
     "text": [
      "The F1_score for Negative label of this model is 0.347 with K-Value 5\n"
     ]
    }
   ],
   "source": [
    "test_clf_brute=KNeighborsClassifier(n_neighbors=best_k,algorithm='brute',n_jobs=-1)\n",
    "test_clf_brute.fit(tfidf_train_vect,Y_train)\n",
    "pred_avg_brute=test_clf_brute.predict(tfidf_test_vect)\n",
    "test_score = f1_score(Y_test, pred_avg_brute,pos_label=\"Negative\")\n",
    "print(\"The F1_score for Negative label of this model is {0} with K-Value {1}\".format(round(test_score,3),best_k))"
   ]
  },
  {
   "cell_type": "code",
   "execution_count": 23,
   "metadata": {},
   "outputs": [
    {
     "data": {
      "image/png": "[encoded data removed]",
      "text/plain": [
       "<Figure size 432x288 with 2 Axes>"
      ]
     },
     "metadata": {},
     "output_type": "display_data"
    }
   ],
   "source": [
    "conf_matrix=confusion_matrix(Y_test,pred_avg_brute)\n",
    "heat_map=sns.heatmap(conf_matrix,annot=True,fmt='d')"
   ]
  },
  {
   "cell_type": "code",
   "execution_count": 24,
   "metadata": {},
   "outputs": [
    {
     "name": "stdout",
     "output_type": "stream",
     "text": [
      "             precision    recall  f1-score   support\n",
      "\n",
      "   Negative       0.57      0.25      0.35      4171\n",
      "   Positive       0.86      0.96      0.91     19829\n",
      "\n",
      "avg / total       0.81      0.84      0.81     24000\n",
      "\n"
     ]
    }
   ],
   "source": [
    "print(classification_report(Y_test,pred_avg_brute))"
   ]
  },
  {
   "cell_type": "code",
   "execution_count": 13,
   "metadata": {},
   "outputs": [],
   "source": [
    "t.add_row(['KNN classifier',\"TFIDFW2V\",\"Brute\",\"k=5\",0.81])"
   ]
  },
  {
   "cell_type": "markdown",
   "metadata": {},
   "source": [
    "### 5.1 TFIDF weighted W2V using KDtree"
   ]
  },
  {
   "cell_type": "code",
   "execution_count": 26,
   "metadata": {},
   "outputs": [
    {
     "name": "stdout",
     "output_type": "stream",
     "text": [
      "The Optimum number of K neighbours in this model is 5 with F1_score of 0.107 for Negative label\n"
     ]
    }
   ],
   "source": [
    "neighbors=[i for i in range(5,19,2)]\n",
    "scores_avg_kd=[]\n",
    "for k in neighbors:\n",
    "    clf=KNeighborsClassifier(n_neighbors=k,algorithm='kd_tree',n_jobs=-1)\n",
    "    clf.fit(tfidf_train_vect,Y_train)\n",
    "    pred=clf.predict(tfidf_cv_vect)\n",
    "    f1 = f1_score(Y_cv, pred,pos_label='Negative')\n",
    "    scores_avg_kd.append(f1)\n",
    "max_score=max(scores_avg_kd)\n",
    "index_k=list(scores_avg_kd).index(max_score)\n",
    "best_k=neighbors[index_k]\n",
    "print(\"The Optimum number of K neighbours in this model is {0} with F1_score of {1} for Negative label\".format(best_k,round(max_score,3)))"
   ]
  },
  {
   "cell_type": "code",
   "execution_count": 27,
   "metadata": {},
   "outputs": [
    {
     "name": "stdout",
     "output_type": "stream",
     "text": [
      "The F1_score for Negative label of this model is 0.347 with K-Value 5\n"
     ]
    }
   ],
   "source": [
    "test_clf_kd=KNeighborsClassifier(n_neighbors=best_k,algorithm='kd_tree',n_jobs=-1)\n",
    "test_clf_kd.fit(tfidf_train_vect,Y_train)\n",
    "pred_avg_kd=test_clf_kd.predict(tfidf_test_vect)\n",
    "test_score = f1_score(Y_test, pred_avg_kd,pos_label=\"Negative\")\n",
    "print(\"The F1_score for Negative label of this model is {0} with K-Value {1}\".format(round(test_score,3),best_k))"
   ]
  },
  {
   "cell_type": "code",
   "execution_count": 28,
   "metadata": {},
   "outputs": [
    {
     "data": {
      "image/png": "[encoded data removed]",
      "text/plain": [
       "<Figure size 432x288 with 2 Axes>"
      ]
     },
     "metadata": {},
     "output_type": "display_data"
    }
   ],
   "source": [
    "conf_matrix=confusion_matrix(Y_test,pred_avg_kd)\n",
    "heat_map=sns.heatmap(conf_matrix,annot=True,fmt='d')"
   ]
  },
  {
   "cell_type": "code",
   "execution_count": 29,
   "metadata": {},
   "outputs": [
    {
     "name": "stdout",
     "output_type": "stream",
     "text": [
      "             precision    recall  f1-score   support\n",
      "\n",
      "   Negative       0.57      0.25      0.35      4171\n",
      "   Positive       0.86      0.96      0.91     19829\n",
      "\n",
      "avg / total       0.81      0.84      0.81     24000\n",
      "\n"
     ]
    }
   ],
   "source": [
    "print(classification_report(Y_test,pred_avg_kd))"
   ]
  },
  {
   "cell_type": "code",
   "execution_count": 14,
   "metadata": {},
   "outputs": [],
   "source": [
    "t.add_row(['KNN classifier',\"TFIDFW2V\",\"KD_Tree\",\"k=5\",0.81])"
   ]
  },
  {
   "cell_type": "code",
   "execution_count": 30,
   "metadata": {},
   "outputs": [
    {
     "data": {
      "image/png": "[encoded data removed]",
      "text/plain": [
       "<Figure size 432x288 with 1 Axes>"
      ]
     },
     "metadata": {},
     "output_type": "display_data"
    }
   ],
   "source": [
    "plot_error(scores_avg_brute,scores_avg_kd,neighbors)"
   ]
  },
  {
   "cell_type": "markdown",
   "metadata": {},
   "source": [
    "<ol>As dimension of data passed to both KD_tree and Brute algos is same hence we got same results for both algorithms"
   ]
  },
  {
   "cell_type": "markdown",
   "metadata": {},
   "source": [
    "### 6.Conculsions"
   ]
  },
  {
   "cell_type": "markdown",
   "metadata": {},
   "source": [
    "<ol>\n",
    "<li>Computational power contraints made me to take only 80k data points out of 300k+ data points</li>\n",
    "<li>Since our data is more imbalanced I have taken F1_score as a evalution metric. It performs better than accuracy when data is more skewed towards one class label.</li>\n",
    "<li>KD_Tree acts like brute algorithm when dimensions of the data is same.\n",
    "    <li> TFIDF with Brute force approach hight F1_score of <b>0.83</b> is achieved</li>\n",
    "</ol>"
   ]
  },
  {
   "cell_type": "code",
   "execution_count": 18,
   "metadata": {},
   "outputs": [
    {
     "name": "stdout",
     "output_type": "stream",
     "text": [
      "+----------------+------------+---------------+---------+--------------+\n",
      "|     Model      | Vectorizer | Brute/KD_Tree | K-value | avg F1 Score |\n",
      "+----------------+------------+---------------+---------+--------------+\n",
      "| KNN classifier |    BOW     |     Brute     |   k=5   |     0.81     |\n",
      "| KNN classifier |    BOW     |    KD-Tree    |   k=5   |     0.81     |\n",
      "| KNN classifier |   TFIDF    |     Brute     |   k=5   |     0.83     |\n",
      "| KNN classifier |   TFIDF    |    KD-Tree    |   k=5   |     0.79     |\n",
      "| KNN classifier |   AVGW2V   |     Brute     |   k=5   |     0.77     |\n",
      "| KNN classifier |   AVGW2V   |    KD_Tree    |   k=5   |     0.77     |\n",
      "| KNN classifier |   AVGW2V   |    KD_Tree    |   k=5   |     0.81     |\n",
      "| KNN classifier |  TFIDFW2V  |    KD_Tree    |   k=5   |     0.81     |\n",
      "+----------------+------------+---------------+---------+--------------+\n"
     ]
    }
   ],
   "source": [
    "print(t)"
   ]
  }
 ],
 "metadata": {
  "kernelspec": {
   "display_name": "Python 3",
   "language": "python",
   "name": "python3"
  },
  "language_info": {
   "codemirror_mode": {
    "name": "ipython",
    "version": 3
   },
   "file_extension": ".py",
   "mimetype": "text/x-python",
   "name": "python",
   "nbconvert_exporter": "python",
   "pygments_lexer": "ipython3",
   "version": "3.6.5"
  }
 },
 "nbformat": 4,
 "nbformat_minor": 2
}
